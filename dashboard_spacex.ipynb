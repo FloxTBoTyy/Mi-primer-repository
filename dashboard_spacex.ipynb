{
  "nbformat": 4,
  "nbformat_minor": 0,
  "metadata": {
    "colab": {
      "provenance": [],
      "authorship_tag": "ABX9TyOYZt8vmflwXZrFo1s1+JxF",
      "include_colab_link": true
    },
    "kernelspec": {
      "name": "python3",
      "display_name": "Python 3"
    },
    "language_info": {
      "name": "python"
    }
  },
  "cells": [
    {
      "cell_type": "markdown",
      "metadata": {
        "id": "view-in-github",
        "colab_type": "text"
      },
      "source": [
        "<a href=\"https://colab.research.google.com/github/FloxTBoTyy/Mi-primer-repository/blob/main/dashboard_spacex.ipynb\" target=\"_parent\"><img src=\"https://colab.research.google.com/assets/colab-badge.svg\" alt=\"Open In Colab\"/></a>"
      ]
    },
    {
      "cell_type": "code",
      "source": [
        "# Import required libraries\n",
        "import pandas as pd\n",
        "import dash\n",
        "#from jupyter_dash import JupyterDash\n",
        "#import dash_html_components as html\n",
        "from dash import html\n",
        "#import dash_core_components as dcc\n",
        "from dash import dcc\n",
        "from dash.dependencies import Input, Output\n",
        "import plotly.express as px\n",
        "url= \"https://cf-courses-data.s3.us.cloud-object-storage.appdomain.cloud/IBM-DS0321EN-SkillsNetwork/datasets/spacex_launch_dash.csv\"\n",
        "# Read the airline data into pandas dataframe\n",
        "spacex_df = pd.read_csv(url)\n",
        "max_payload = spacex_df['Payload Mass (kg)'].max()\n",
        "min_payload = spacex_df['Payload Mass (kg)'].min()\n",
        "# to callback pie\n",
        "spacex_filtrado_total=spacex_df[['Launch Site','class']].groupby('Launch Site',as_index=False).sum()\n",
        "count_class=spacex_df[['Launch Site','class']].groupby('Launch Site',as_index=False).count()['class']\n",
        "\n",
        "sum_class = spacex_filtrado_total['class']\n",
        "sum_launch = spacex_filtrado_total['Launch Site']\n",
        "\n",
        "ceros =count_class - sum_class\n",
        "transpose_data=pd.DataFrame({'Launch Site':sum_launch, 'unos':sum_class, 'ceros':ceros}).set_index('Launch Site').transpose()\n",
        "# Create a dash application\n",
        "app = dash.Dash(__name__)\n",
        "#app = JupyterDash(__name__)\n",
        "# Create an app layout\n",
        "app.layout = html.Div(children=[html.H1('SpaceX Launch Records Dashboard',\n",
        "                                        style={'textAlign': 'center', 'color': '#503D36',\n",
        "                                               'font-size': 40}),\n",
        "                                # TASK 1: Add a dropdown list to enable Launch Site selection\n",
        "                                # The default select value is for ALL sites\n",
        "                                # dcc.Dropdown(id='site-dropdown',...)\n",
        "                                dcc.Dropdown(id='site-dropdown',\n",
        "                                             options=[\n",
        "                                                      {'label': 'All Sites', 'value': 'ALL'},\n",
        "                                                      {'label': 'CCAFS LC-40', 'value': 'CCAFS LC-40'},\n",
        "                                                      {'label': 'CCAFS SLC-40\t', 'value': 'CCAFS SLC-40'},\n",
        "                                                      {'label': 'KSC LC-39A\t', 'value': 'KSC LC-39A'},\n",
        "                                                      {'label':'VAFB SLC-4E\t', 'value': 'VAFB SLC-4E'}\n",
        "                                                                                            ],\n",
        "                                             value='ALL',\n",
        "                                             placeholder=\"Select a Launch Site here\",\n",
        "                                             searchable=True\n",
        "                                                            ),\n",
        "\n",
        "                                html.Br(),\n",
        "\n",
        "                                # TASK 2: Add a pie chart to show the total successful launches count for all sites\n",
        "                                # If a specific launch site was selected, show the Success vs. Failed counts for the site\n",
        "                                html.Div(dcc.Graph(id='success-pie-chart')),\n",
        "                                html.Br(),\n",
        "\n",
        "                                html.P(\"Payload range (Kg):\"),\n",
        "                                # TASK 3: Add a slider to select payload range\n",
        "                                #dcc.RangeSlider(id='payload-slider',...)\n",
        "                                dcc.RangeSlider(id='payload-slider',\n",
        "                                                min=0, max=10000, step=1000,\n",
        "                                                marks={0: '0',\n",
        "                                                       2500: '2500',\n",
        "                                                       5000:'5000',\n",
        "                                                       7500:'7500',\n",
        "                                                       10000:'10000'},\n",
        "                                                value=[min_payload, max_payload]),\n",
        "                                # TASK 4: Add a scatter chart to show the correlation between payload and launch success\n",
        "                                html.Div(dcc.Graph(id='success-payload-scatter-chart')),\n",
        "                                ])\n",
        "\n",
        "# TASK 2:\n",
        "# Add a callback function for `site-dropdown` as input, `success-pie-chart` as output\n",
        "# Function decorator to specify function input and output\n",
        "@app.callback(Output(component_id='success-pie-chart', component_property='figure'),\n",
        "              Input(component_id='site-dropdown', component_property='value'))\n",
        "def get_pie_chart(entered_site):\n",
        "\n",
        "    if entered_site == 'ALL':\n",
        "        fig = px.pie(spacex_filtrado_total, values='class',\n",
        "        names=spacex_filtrado_total['Launch Site'],\n",
        "        title='Total success launches')\n",
        "        return fig\n",
        "    else:\n",
        "        fig = px.pie(transpose_data[entered_site], values=entered_site,\n",
        "        names=transpose_data.index,\n",
        "        title='Total success launches for site '+ str(entered_site))\n",
        "        return fig\n",
        "        # return the outcomes piechart for a selected site\n",
        "# TASK 4:\n",
        "# Add a callback function for `site-dropdown` and `payload-slider` as inputs, `success-payload-scatter-chart` as output\n",
        "@app.callback(Output(component_id='success-payload-scatter-chart', component_property='figure'),\n",
        "              [Input(component_id='site-dropdown', component_property='value'),\n",
        "               Input(component_id=\"payload-slider\", component_property=\"value\")]\n",
        ")\n",
        "\n",
        "def get_scatter_chart(site_value,payload_value):\n",
        "  if site_value== 'ALL':\n",
        "    fig = px.scatter(spacex_df,x='Payload Mass (kg)',y='class',color='Booster Version Category',range_x=[payload_value[0], payload_value[1]],\n",
        "                     title='Correlation between Payload and Success for ALL sites')\n",
        "    return fig\n",
        "\n",
        "  else:\n",
        "    fig = px.scatter(spacex_df[spacex_df['Launch Site']==site_value],x='Payload Mass (kg)',y='class',color='Booster Version Category',range_x=[payload_value[0], payload_value[1]]\n",
        "                               ,title='Correlation between Payload and Success for '+ str(site_value))\n",
        "    return fig\n",
        "\n",
        "# Run the app\n",
        "if __name__ == '__main__':\n",
        "    app.run_server()\n",
        "    #app.run_server(mode='inline')\n"
      ],
      "metadata": {
        "colab": {
          "base_uri": "https://localhost:8080/",
          "height": 672
        },
        "id": "ch1islLPfDjD",
        "outputId": "755403a8-67ae-4098-ac62-22df06b775e8"
      },
      "execution_count": 25,
      "outputs": [
        {
          "output_type": "display_data",
          "data": {
            "text/plain": [
              "<IPython.core.display.Javascript object>"
            ],
            "application/javascript": [
              "(async (port, path, width, height, cache, element) => {\n",
              "    if (!google.colab.kernel.accessAllowed && !cache) {\n",
              "      return;\n",
              "    }\n",
              "    element.appendChild(document.createTextNode(''));\n",
              "    const url = await google.colab.kernel.proxyPort(port, {cache});\n",
              "    const iframe = document.createElement('iframe');\n",
              "    iframe.src = new URL(path, url).toString();\n",
              "    iframe.height = height;\n",
              "    iframe.width = width;\n",
              "    iframe.style.border = 0;\n",
              "    iframe.allow = [\n",
              "        'accelerometer',\n",
              "        'autoplay',\n",
              "        'camera',\n",
              "        'clipboard-read',\n",
              "        'clipboard-write',\n",
              "        'gyroscope',\n",
              "        'magnetometer',\n",
              "        'microphone',\n",
              "        'serial',\n",
              "        'usb',\n",
              "        'xr-spatial-tracking',\n",
              "    ].join('; ');\n",
              "    element.appendChild(iframe);\n",
              "  })(8050, \"/\", \"100%\", 650, false, window.element)"
            ]
          },
          "metadata": {}
        }
      ]
    },
    {
      "cell_type": "code",
      "source": [],
      "metadata": {
        "id": "_Oh_mfipg3cj"
      },
      "execution_count": null,
      "outputs": []
    }
  ]
}